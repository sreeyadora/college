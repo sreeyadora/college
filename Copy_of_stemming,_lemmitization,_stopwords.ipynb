{
  "nbformat": 4,
  "nbformat_minor": 0,
  "metadata": {
    "colab": {
      "provenance": [],
      "authorship_tag": "ABX9TyPYKvUXPPbYFCOmyV7nYDl2",
      "include_colab_link": true
    },
    "kernelspec": {
      "name": "python3",
      "display_name": "Python 3"
    },
    "language_info": {
      "name": "python"
    }
  },
  "cells": [
    {
      "cell_type": "markdown",
      "metadata": {
        "id": "view-in-github",
        "colab_type": "text"
      },
      "source": [
        "<a href=\"https://colab.research.google.com/github/sreeyadora/college/blob/main/Copy_of_stemming%2C_lemmitization%2C_stopwords.ipynb\" target=\"_parent\"><img src=\"https://colab.research.google.com/assets/colab-badge.svg\" alt=\"Open In Colab\"/></a>"
      ]
    },
    {
      "cell_type": "code",
      "execution_count": null,
      "metadata": {
        "colab": {
          "base_uri": "https://localhost:8080/"
        },
        "id": "KEgrQ3YK6BQG",
        "outputId": "fed70723-cf84-4b58-9eee-821649bb7f78"
      },
      "outputs": [
        {
          "output_type": "stream",
          "name": "stderr",
          "text": [
            "[nltk_data] Downloading package punkt to /root/nltk_data...\n",
            "[nltk_data]   Unzipping tokenizers/punkt.zip.\n",
            "[nltk_data] Downloading package wordnet to /root/nltk_data...\n",
            "[nltk_data] Downloading package omw-1.4 to /root/nltk_data...\n",
            "[nltk_data] Downloading package stopwords to /root/nltk_data...\n",
            "[nltk_data]   Unzipping corpora/stopwords.zip.\n"
          ]
        },
        {
          "output_type": "execute_result",
          "data": {
            "text/plain": [
              "True"
            ]
          },
          "metadata": {},
          "execution_count": 1
        }
      ],
      "source": [
        "import nltk\n",
        "nltk.download('punkt')\n",
        "nltk.download('wordnet')\n",
        "nltk.download('omw-1.4')\n",
        "from nltk.stem import WordNetLemmatizer\n",
        "from nltk.corpus import stopwords\n",
        "nltk.download('stopwords')"
      ]
    },
    {
      "cell_type": "code",
      "source": [
        "paragraph = \"\"\"Topic sentences are similar to mini thesis statements. \n",
        "               Like a thesis statement, a topic sentence has a specific main point. \n",
        "               Whereas the thesis is the main point of the essay, the topic sentence \n",
        "               is the main point of the paragraph. Like the thesis statement, a topic\n",
        "               sentence has a unifying function. But a thesis statement or topic \n",
        "               sentence alone doesn’t guarantee unity. An essay is unified if all \n",
        "               the paragraphs relate to the thesis, whereas a paragraph is unified\n",
        "                if all the sentences relate to the topic sentence. Not all \n",
        "                paragraphs need topic sentences\"\"\"\n"
      ],
      "metadata": {
        "id": "imag6zYgxQfg"
      },
      "execution_count": null,
      "outputs": []
    },
    {
      "cell_type": "code",
      "source": [
        "sentences = nltk.sent_tokenize(paragraph)\n",
        "lemmatizer = WordNetLemmatizer()"
      ],
      "metadata": {
        "id": "eMHZrlld6kZc"
      },
      "execution_count": null,
      "outputs": []
    },
    {
      "cell_type": "code",
      "source": [
        "for i in range (len(sentences)):\n",
        "  words = nltk.word_tokenize(sentences [i])\n",
        "  words = [lemmatizer.lemmatize(words) for words in words if words not in set(stopwords.words('english'))]\n",
        "  sentences [i] = ' '.join(words)\n",
        "print(sentences)"
      ],
      "metadata": {
        "colab": {
          "base_uri": "https://localhost:8080/"
        },
        "id": "Avh5YrZV6xkN",
        "outputId": "9e60701d-2342-48b2-de60-511382a7e914"
      },
      "execution_count": null,
      "outputs": [
        {
          "output_type": "stream",
          "name": "stdout",
          "text": [
            "['Topic sentence similar mini thesis statement .', 'Like thesis statement , topic sentence specific main point .', 'Whereas thesis main point essay , topic sentence main point paragraph .', 'Like thesis statement , topic sentence unifying function .', 'But thesis statement topic sentence alone ’ guarantee unity .', 'An essay unified paragraph relate thesis , whereas paragraph unified sentence relate topic sentence .', 'Not paragraph need topic sentence']\n"
          ]
        }
      ]
    },
    {
      "cell_type": "markdown",
      "source": [
        "stemmer"
      ],
      "metadata": {
        "id": "APXhv7ynao20"
      }
    },
    {
      "cell_type": "code",
      "source": [
        "import nltk\n",
        "nltk.download('punkt')\n",
        "from nltk.stem import PorterStemmer\n",
        "from nltk.corpus import stopwords\n",
        "nltk.download('stopwords')\n"
      ],
      "metadata": {
        "colab": {
          "base_uri": "https://localhost:8080/"
        },
        "id": "y1Ke-orUasQ8",
        "outputId": "9141a49b-f8d0-4e09-bb0d-643be624e0b0"
      },
      "execution_count": null,
      "outputs": [
        {
          "output_type": "stream",
          "name": "stderr",
          "text": [
            "[nltk_data] Downloading package punkt to /root/nltk_data...\n",
            "[nltk_data]   Package punkt is already up-to-date!\n",
            "[nltk_data] Downloading package stopwords to /root/nltk_data...\n",
            "[nltk_data]   Package stopwords is already up-to-date!\n"
          ]
        },
        {
          "output_type": "execute_result",
          "data": {
            "text/plain": [
              "True"
            ]
          },
          "metadata": {},
          "execution_count": 5
        }
      ]
    },
    {
      "cell_type": "code",
      "source": [
        "paragraph = \"\"\"Topic sentences are similar to mini thesis statements. \n",
        "               Like a thesis statement, a topic sentence has a specific\n",
        "                main point. Whereas the thesis is the main point of the\n",
        "                 essay, the topic sentence is the main point of the \n",
        "                 paragraph. Like the thesis statement, a topic sentence \n",
        "                 has a unifying function. But a thesis statement or topic \n",
        "                 sentence alone doesn’t guarantee unity. An essay is unified\n",
        "                  if all the paragraphs relate to the thesis, whereas a \n",
        "                  paragraph is unified if all the sentences relate to the\n",
        "                   topic sentence. Not all paragraphs need topic sentences\"\"\""
      ],
      "metadata": {
        "id": "otQlEpJdbPve"
      },
      "execution_count": null,
      "outputs": []
    },
    {
      "cell_type": "code",
      "source": [
        "sentences = nltk.sent_tokenize(paragraph)\n",
        "Stemmer = PorterStemmer()"
      ],
      "metadata": {
        "id": "B7Cq87p2bjJX"
      },
      "execution_count": null,
      "outputs": []
    },
    {
      "cell_type": "code",
      "source": [
        "for i in range (len(sentences)):\n",
        "  words = nltk.word_tokenize(sentences [i])\n",
        "  words = [Stemmer.stem(word) for word in words if word not in set(stopwords.words('english'))]\n",
        "  sentences [i] = ' '.join(words)\n",
        "print(sentences)"
      ],
      "metadata": {
        "colab": {
          "base_uri": "https://localhost:8080/"
        },
        "id": "LjfYsj8Bbp2t",
        "outputId": "4646a095-c935-478a-f64f-1a1e0c79adf7"
      },
      "execution_count": null,
      "outputs": [
        {
          "output_type": "stream",
          "name": "stdout",
          "text": [
            "['topic sentenc similar mini thesi statement .', 'like thesi statement , topic sentenc specif main point .', 'wherea thesi main point essay , topic sentenc main point paragraph .', 'like thesi statement , topic sentenc unifi function .', 'but thesi statement topic sentenc alon ’ guarante uniti .', 'an essay unifi paragraph relat thesi , wherea paragraph unifi sentenc relat topic sentenc .', 'not paragraph need topic sentenc']\n"
          ]
        }
      ]
    },
    {
      "cell_type": "markdown",
      "source": [],
      "metadata": {
        "id": "g48fNnBobPD-"
      }
    }
  ]
}