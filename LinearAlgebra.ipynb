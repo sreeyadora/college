{
  "nbformat": 4,
  "nbformat_minor": 0,
  "metadata": {
    "colab": {
      "provenance": [],
      "include_colab_link": true
    },
    "kernelspec": {
      "name": "python3",
      "display_name": "Python 3"
    },
    "language_info": {
      "name": "python"
    }
  },
  "cells": [
    {
      "cell_type": "markdown",
      "metadata": {
        "id": "view-in-github",
        "colab_type": "text"
      },
      "source": [
        "<a href=\"https://colab.research.google.com/github/sreeyadora/college/blob/main/LinearAlgebra.ipynb\" target=\"_parent\"><img src=\"https://colab.research.google.com/assets/colab-badge.svg\" alt=\"Open In Colab\"/></a>"
      ]
    },
    {
      "cell_type": "markdown",
      "source": [
        "### **Creating a simple matrix using NumPy Library**"
      ],
      "metadata": {
        "id": "DBnJNYVc3mS9"
      }
    },
    {
      "cell_type": "code",
      "source": [
        "import numpy as np"
      ],
      "metadata": {
        "id": "GHSad5Fy4QfD"
      },
      "execution_count": null,
      "outputs": []
    },
    {
      "cell_type": "code",
      "source": [
        "a = np.array([[1],\n",
        "              [3],\n",
        "              [7],\n",
        "              [2]])\n",
        "print(\"a =\\n\", a)\n",
        "\n",
        "A = np.array([[1, 3, 7, 2],\n",
        "[5, 8, -9, 0],\n",
        "[6, -7, 11, 12]])\n",
        "print(\"\\nA =\\n\", A)"
      ],
      "metadata": {
        "colab": {
          "base_uri": "https://localhost:8080/"
        },
        "id": "FF3DAxxE4iUL",
        "outputId": "a9c133db-7422-4c21-cc58-b2cc0fd4872c"
      },
      "execution_count": null,
      "outputs": [
        {
          "output_type": "stream",
          "name": "stdout",
          "text": [
            "a =\n",
            " [[1]\n",
            " [3]\n",
            " [7]\n",
            " [2]]\n",
            "\n",
            "A =\n",
            " [[ 1  3  7  2]\n",
            " [ 5  8 -9  0]\n",
            " [ 6 -7 11 12]]\n"
          ]
        }
      ]
    },
    {
      "cell_type": "markdown",
      "source": [
        "### **Matrix Addition, Subtraction, Multiplication**"
      ],
      "metadata": {
        "id": "V-RD2nHh5TrJ"
      }
    },
    {
      "cell_type": "code",
      "source": [
        "A = np.matrix([[0, 1],\n",
        "              [-2, -3]])\n",
        "B = np.matrix([[1, 0],\n",
        "              [3, -2]])\n",
        "C = A + B\n",
        "print(\"A+B =\\n\", C)\n",
        "\n",
        "C = A - B\n",
        "print(\"\\nA-B =\\n\", C)\n",
        "\n",
        "C = A * B\n",
        "print(\"\\nA*B =\\n\", C)# Not Working!, only elementwise Multiplication!\n",
        "\n",
        "#Working Alternative 1\n",
        "C = A.dot(B)\n",
        "print(\"\\nA*B =\\n\", C)\n",
        "\n",
        "#Working Alternative 2\n",
        "C = np.dot(A,B)\n",
        "print(\"\\nA*B =\\n\", C)\n",
        "\n",
        "#Working Alternative 3\n",
        "C = np.mat(A) * np.mat(B)\n",
        "print(\"\\nA*B =\\n\", C)\n",
        "\n",
        "#Working Alternative 4\n",
        "C = np.matmul(A,B)\n",
        "print(\"\\nA*B =\\n\", C)\n"
      ],
      "metadata": {
        "colab": {
          "base_uri": "https://localhost:8080/"
        },
        "id": "0xJQi8JM5WHC",
        "outputId": "dcc8188c-b525-4ae9-d058-cedb20634914"
      },
      "execution_count": null,
      "outputs": [
        {
          "output_type": "stream",
          "name": "stdout",
          "text": [
            "A+B =\n",
            " [[ 1  1]\n",
            " [ 1 -5]]\n",
            "\n",
            "A-B =\n",
            " [[-1  1]\n",
            " [-5 -1]]\n",
            "\n",
            "A*B =\n",
            " [[  3  -2]\n",
            " [-11   6]]\n",
            "\n",
            "A*B =\n",
            " [[  3  -2]\n",
            " [-11   6]]\n",
            "\n",
            "A*B =\n",
            " [[  3  -2]\n",
            " [-11   6]]\n",
            "\n",
            "A*B =\n",
            " [[  3  -2]\n",
            " [-11   6]]\n",
            "\n",
            "A*B =\n",
            " [[  3  -2]\n",
            " [-11   6]]\n"
          ]
        }
      ]
    },
    {
      "cell_type": "markdown",
      "source": [
        "### **Matrix Multiplication**"
      ],
      "metadata": {
        "id": "y3oDAZ9P7Xz4"
      }
    },
    {
      "cell_type": "code",
      "source": [
        "A = np.array([[1, 5, 3],\n",
        "              [4, 6, 6],\n",
        "              [3, 8, 9]])\n",
        "\n",
        "B = np.array([[1, 5, 3, 4],\n",
        "              [4, 5, 7, 8],\n",
        "              [7, 8, 9, 3]])\n",
        "\n",
        "C = np.array([[1],\n",
        "              [4],\n",
        "              [3]])\n",
        "\n",
        "D = np.array([[1, 5, 3]])\n",
        "\n",
        "M = np.matmul(A,B)\n",
        "print(\"M=\\n\", M)\n",
        "#M = np.matmul(B,A) # Not Working!\n",
        "\n",
        "M = np.matmul(A,C)\n",
        "print(\"\\nM=\\n\", M)\n",
        "#M = np.matmul(C,A) # Not Working!\n",
        "\n",
        "M = np.matmul(C,D)\n",
        "print(\"\\nM=\\n\", M)\n",
        "\n",
        "M = np.matmul(D,C)\n",
        "print(\"\\nM=\\n\", M)"
      ],
      "metadata": {
        "colab": {
          "base_uri": "https://localhost:8080/"
        },
        "id": "CfZHz7Ay7ar1",
        "outputId": "7895778b-0139-4189-846b-b28cd5a798dd"
      },
      "execution_count": null,
      "outputs": [
        {
          "output_type": "stream",
          "name": "stdout",
          "text": [
            "M=\n",
            " [[ 42  54  65  53]\n",
            " [ 70  98 108  82]\n",
            " [ 98 127 146 103]]\n",
            "\n",
            "M=\n",
            " [[30]\n",
            " [46]\n",
            " [62]]\n",
            "\n",
            "M=\n",
            " [[ 1  5  3]\n",
            " [ 4 20 12]\n",
            " [ 3 15  9]]\n",
            "\n",
            "M=\n",
            " [[30]]\n"
          ]
        }
      ]
    },
    {
      "cell_type": "markdown",
      "source": [
        "### **Transpose of a Matrix**"
      ],
      "metadata": {
        "id": "oyfjYgER8WxS"
      }
    },
    {
      "cell_type": "code",
      "source": [
        "A = np.array([[1, 3, 7, 2],\n",
        "              [5, 8, -9, 0],\n",
        "              [6, -7, 11, 12]])\n",
        "print(\"A=\\n\"); print(A)\n",
        "Atr = np.transpose(A)\n",
        "print(\"\\nTranspose of A=\"); print(Atr)\n",
        "\n",
        "B = np.array([[1, 5],\n",
        "              [4, 5],\n",
        "              [3, 2],\n",
        "              [7, 8]])\n",
        "print(\"\\nB=\"); print(B)\n",
        "Btr = np.transpose(B)\n",
        "print(\"\\nTranspose of B=\"); print(Btr)"
      ],
      "metadata": {
        "colab": {
          "base_uri": "https://localhost:8080/"
        },
        "id": "xQ-spwok8auS",
        "outputId": "2a1970d4-7b39-4af0-c04f-645021936732"
      },
      "execution_count": null,
      "outputs": [
        {
          "output_type": "stream",
          "name": "stdout",
          "text": [
            "A=\n",
            "\n",
            "[[ 1  3  7  2]\n",
            " [ 5  8 -9  0]\n",
            " [ 6 -7 11 12]]\n",
            "\n",
            "Transpose of A=\n",
            "[[ 1  5  6]\n",
            " [ 3  8 -7]\n",
            " [ 7 -9 11]\n",
            " [ 2  0 12]]\n",
            "\n",
            "B=\n",
            "[[1 5]\n",
            " [4 5]\n",
            " [3 2]\n",
            " [7 8]]\n",
            "\n",
            "Transpose of B=\n",
            "[[1 4 3 7]\n",
            " [5 5 2 8]]\n"
          ]
        }
      ]
    },
    {
      "cell_type": "markdown",
      "source": [
        "### **Determinant of a Matrix**"
      ],
      "metadata": {
        "id": "3zXKyYu489Y5"
      }
    },
    {
      "cell_type": "code",
      "source": [
        "import numpy as np\n",
        "import numpy.linalg as la\n",
        "A = np.array([[1, 2],\n",
        "              [3, 4]])\n",
        "Adet = la.det(A)\n",
        "print(Adet)\n",
        "\n",
        "B = np.array([[-1, 3, 0],\n",
        "              [2, 1, -5],\n",
        "              [1, 4, -2]])\n",
        "Bdet = la.det(B)\n",
        "print(Bdet)"
      ],
      "metadata": {
        "colab": {
          "base_uri": "https://localhost:8080/"
        },
        "id": "M-Xul2jj9C1y",
        "outputId": "b4d01555-a139-46e0-a515-76b0475e973d"
      },
      "execution_count": null,
      "outputs": [
        {
          "output_type": "stream",
          "name": "stdout",
          "text": [
            "-2.0000000000000004\n",
            "-21.00000000000001\n"
          ]
        }
      ]
    },
    {
      "cell_type": "markdown",
      "source": [
        "### **Inverse Matrices**"
      ],
      "metadata": {
        "id": "fZolRlml9UiR"
      }
    },
    {
      "cell_type": "code",
      "source": [
        "import numpy as np\n",
        "import numpy.linalg as la\n",
        "A = np.array([[1, 2],\n",
        "              [3, 4]])\n",
        "Ainv = la.inv(A)\n",
        "print(\"Inverse of A =\\n\",Adet)\n",
        "\n",
        "B = np.array([[-1, 3, 0],\n",
        "              [2, 1, -5],\n",
        "              [1, 4, -2]])\n",
        "Binv = la.inv(B)\n",
        "print(\"\\nInverse of B =\\n\",Binv)"
      ],
      "metadata": {
        "colab": {
          "base_uri": "https://localhost:8080/"
        },
        "id": "ehWMJINv9W6P",
        "outputId": "e596d7bd-50b9-4675-fb15-8b43d180306d"
      },
      "execution_count": null,
      "outputs": [
        {
          "output_type": "stream",
          "name": "stdout",
          "text": [
            "Inverse of A =\n",
            " -2.0000000000000004\n",
            "\n",
            "Inverse of B =\n",
            " [[-0.85714286 -0.28571429  0.71428571]\n",
            " [ 0.04761905 -0.0952381   0.23809524]\n",
            " [-0.33333333 -0.33333333  0.33333333]]\n"
          ]
        }
      ]
    },
    {
      "cell_type": "markdown",
      "source": [
        "### **Eigenvalues**"
      ],
      "metadata": {
        "id": "MpKEfTRf-VuU"
      }
    },
    {
      "cell_type": "code",
      "source": [
        "import numpy as np\n",
        "import numpy.linalg as la\n",
        "A = np.array([[0, 1],\n",
        "              [-2, -3]])\n",
        "Aeig, v = la.eig(A)\n",
        "print(\"Eigen value of A =\",Aeig)"
      ],
      "metadata": {
        "colab": {
          "base_uri": "https://localhost:8080/"
        },
        "id": "xB0dinwo-aIM",
        "outputId": "70a82ac0-fe2c-4caa-d9af-81ae37494d90"
      },
      "execution_count": null,
      "outputs": [
        {
          "output_type": "stream",
          "name": "stdout",
          "text": [
            "Eigen value of A = [-1. -2.]\n"
          ]
        }
      ]
    },
    {
      "cell_type": "markdown",
      "source": [
        "### **Matrices Rules**\n",
        "### **Proving 𝐴𝐵 ≠ 𝐵𝐴**"
      ],
      "metadata": {
        "id": "07uo3DsI_Smb"
      }
    },
    {
      "cell_type": "code",
      "source": [
        "import numpy as np\n",
        "A = np.array([[0, 1],\n",
        "              [-2, -3]])\n",
        "B = np.array([[1, 0],\n",
        "              [3, -2]])\n",
        "C = np.array([[1, 1],\n",
        "              [1, -5]])\n",
        "print(\"AB Not Equal BA\")\n",
        "L = np.matmul(A,B)\n",
        "print(\"L=\");print(L)\n",
        "R = np.matmul(B,A)\n",
        "print(\"R=\");print(R)"
      ],
      "metadata": {
        "colab": {
          "base_uri": "https://localhost:8080/"
        },
        "id": "8nHM_KvG_l1Q",
        "outputId": "342a208e-d101-4ee6-9fd6-e1542a4ee321"
      },
      "execution_count": null,
      "outputs": [
        {
          "output_type": "stream",
          "name": "stdout",
          "text": [
            "AB Not Equal BA\n",
            "L=\n",
            "[[  3  -2]\n",
            " [-11   6]]\n",
            "R=\n",
            "[[0 1]\n",
            " [4 9]]\n"
          ]
        }
      ]
    },
    {
      "cell_type": "markdown",
      "source": [
        "### **Matrices Rules**\n",
        "### **Proving 𝐴(𝐵𝐶) = (𝐴𝐵)𝐶**"
      ],
      "metadata": {
        "id": "5SrUhPvR_5rl"
      }
    },
    {
      "cell_type": "code",
      "source": [
        "print(\"A(BC) = (AB)C\")\n",
        "L = np.matmul(A,np.matmul(B,C))\n",
        "print(\"L=\");print(L)\n",
        "R = np.matmul(np.matmul(A,B),C)\n",
        "print(\"R=\");print(R)"
      ],
      "metadata": {
        "colab": {
          "base_uri": "https://localhost:8080/"
        },
        "id": "wxRMLzCCAKF-",
        "outputId": "7b9c9eeb-15d0-4729-d2b9-2b8ad64e248e"
      },
      "execution_count": null,
      "outputs": [
        {
          "output_type": "stream",
          "name": "stdout",
          "text": [
            "A(BC) = (AB)C\n",
            "L=\n",
            "[[  1  13]\n",
            " [ -5 -41]]\n",
            "R=\n",
            "[[  1  13]\n",
            " [ -5 -41]]\n"
          ]
        }
      ]
    },
    {
      "cell_type": "markdown",
      "source": [
        "### **Solving Linear Equations**"
      ],
      "metadata": {
        "id": "cQNTMlrCAldF"
      }
    },
    {
      "cell_type": "code",
      "source": [
        "import numpy as np\n",
        "import numpy.linalg as la\n",
        "A = np.array([[1, 2],\n",
        "              [3, 4]])\n",
        "b = np.array([[5],\n",
        "              [6]])\n",
        "Ainv = la.inv(A)\n",
        "x = Ainv.dot(b)\n",
        "print(x)"
      ],
      "metadata": {
        "colab": {
          "base_uri": "https://localhost:8080/"
        },
        "id": "BK5qTfuKAzsb",
        "outputId": "04f12940-99e3-49e4-f8b6-f9a757ac1ae8"
      },
      "execution_count": null,
      "outputs": [
        {
          "output_type": "stream",
          "name": "stdout",
          "text": [
            "[[-4. ]\n",
            " [ 4.5]]\n"
          ]
        }
      ]
    },
    {
      "cell_type": "markdown",
      "source": [
        "### **Solving Linear Equations**\n",
        "### **We can also use the linalg.solve() function**"
      ],
      "metadata": {
        "id": "HQuo5FNPBLFu"
      }
    },
    {
      "cell_type": "code",
      "source": [
        "import numpy as np\n",
        "A = np.array([[1, 2],\n",
        "              [3, 4]])\n",
        "b = np.array([[5],\n",
        "              [6]])\n",
        "x = np.linalg.solve(A, b)\n",
        "print(x)"
      ],
      "metadata": {
        "colab": {
          "base_uri": "https://localhost:8080/"
        },
        "id": "bZJHpIKSBTZJ",
        "outputId": "82dd362d-1241-498b-9a22-05f876542735"
      },
      "execution_count": null,
      "outputs": [
        {
          "output_type": "stream",
          "name": "stdout",
          "text": [
            "[[-4. ]\n",
            " [ 4.5]]\n"
          ]
        }
      ]
    },
    {
      "cell_type": "markdown",
      "source": [
        "### **Solving Linear Equations using Least Square method**"
      ],
      "metadata": {
        "id": "FS6O966SBpbd"
      }
    },
    {
      "cell_type": "code",
      "source": [
        "import numpy as np\n",
        "A = np.array([[1, 2],\n",
        "              [3, 4],\n",
        "              [7, 8]])\n",
        "b = np.array([[5],\n",
        "              [6],\n",
        "              [9]])\n",
        "x = np.linalg.lstsq(A, b, rcond=None)[0]\n",
        "print(x)"
      ],
      "metadata": {
        "colab": {
          "base_uri": "https://localhost:8080/"
        },
        "id": "_7AHbsLBB3vb",
        "outputId": "86bfb59e-3bb7-46cf-94a4-b7178630fd98"
      },
      "execution_count": null,
      "outputs": [
        {
          "output_type": "stream",
          "name": "stdout",
          "text": [
            "[[-3.5       ]\n",
            " [ 4.17857143]]\n"
          ]
        }
      ]
    }
  ]
}