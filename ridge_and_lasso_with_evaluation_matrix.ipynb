{
  "nbformat": 4,
  "nbformat_minor": 0,
  "metadata": {
    "colab": {
      "provenance": [],
      "authorship_tag": "ABX9TyPDHr9nm10q3Q/3oS6Hy5AF",
      "include_colab_link": true
    },
    "kernelspec": {
      "name": "python3",
      "display_name": "Python 3"
    },
    "language_info": {
      "name": "python"
    }
  },
  "cells": [
    {
      "cell_type": "markdown",
      "metadata": {
        "id": "view-in-github",
        "colab_type": "text"
      },
      "source": [
        "<a href=\"https://colab.research.google.com/github/sreeyadora/college/blob/main/ridge_and_lasso_with_evaluation_matrix.ipynb\" target=\"_parent\"><img src=\"https://colab.research.google.com/assets/colab-badge.svg\" alt=\"Open In Colab\"/></a>"
      ]
    },
    {
      "cell_type": "code",
      "execution_count": 1,
      "metadata": {
        "id": "Hr7oFWETo160"
      },
      "outputs": [],
      "source": [
        "import pandas as pd\n",
        "import numpy as np\n",
        "import matplotlib.pyplot as plt\n",
        "from sklearn.model_selection import train_test_split\n",
        "from sklearn.linear_model import LinearRegression\n",
        "from sklearn.preprocessing import OneHotEncoder\n",
        "from sklearn.compose import ColumnTransformer\n",
        "from sklearn.metrics import mean_absolute_error,mean_squared_error, r2_score\n",
        "\n"
      ]
    },
    {
      "cell_type": "code",
      "source": [
        "df = pd.read_csv('bouston_housing_pricing.csv')\n",
        "x = df.iloc[:,:-1].values\n",
        "y = df.iloc[:,-1].values\n",
        "print(x)\n",
        "print(y)\n",
        "\n"
      ],
      "metadata": {
        "colab": {
          "base_uri": "https://localhost:8080/"
        },
        "id": "hZKIfvLlpYxe",
        "outputId": "e2ef3767-ad94-45bd-e514-0ce7fc580d45"
      },
      "execution_count": 2,
      "outputs": [
        {
          "output_type": "stream",
          "name": "stdout",
          "text": [
            "[[  0  18   2 ...  15 397   5]\n",
            " [  0   0   7 ...  18 397   9]\n",
            " [  0   0   7 ...  18 393   4]\n",
            " ...\n",
            " [  9   0  18 ...  20 392  17]\n",
            " [  6   0  18 ...  20 397  19]\n",
            " [  8   0  18 ...  20 393  20]]\n",
            "[24 22 35 33 36 29 23 27 17 19 15 19 22 20 18 20 23 18 20 18 14 20 15 15\n",
            " 16 14 17 15 18 21 13 15 13 13 14 19 20 21 25 31 35 27 25 25 21 19 20 17\n",
            " 14 19 20 21 25 23 19 35 25 32 23 20 19 16 22 25 33 24 19 22 17 21 24 22\n",
            " 23 23 24 21 20 21 21 20 28 24 25 23 24 27 23 22 24 29 23 22 23 25 21 28\n",
            " 21 39 44 33 28 27 19 19 20 20 20 20 20 19 22 23 19 19 19 18 21 19 20 19\n",
            " 22 20 21 17 19 21 16 16 18 14 19 20 23 18 16 18 17 17 13 18 14 14 13 16\n",
            " 12 14 16 15 18 15 22 20 15 19 17 16 13 41 24 23 27 50 50 50 23 25 50 24\n",
            " 24 22 17 19 23 24 23 29 23 25 30 37 40 36 38 33 26 30 50 32 30 35 37 31\n",
            " 36 31 29 50 33 30 35 35 33 24 42 49 50 23 24 23 24 20 22 19 22 28 24 25\n",
            " 23 29 22 23 27 22 28 30 45 50 38 32 47 32 24 32 42 48 29 24 25 32 24 23\n",
            " 22 20 22 24 18 19 24 21 25 26 24 25 30 43 22 21 44 50 36 30 34 43 49 31\n",
            " 37 23 31 50 44 21 21 25 24 35 32 32 33 33 29 35 45 35 46 50 32 22 20 23\n",
            " 22 25 29 37 28 24 22 29 27 20 23 29 25 22 26 33 36 28 33 28 23 20 16 22\n",
            " 19 22 24 16 18 20 23 21 24 23 20 19 25 25 23 22 19 23 20 17 19 22 21 21\n",
            " 20 19 21 19 19 33 17 24 31 18 17 23 25 27 23 24 19 30 18 21 18 22 23 23\n",
            " 25 20 21 17 22 28 22 23 50 50 50 50 50 14 14 15 14 13 13 10 10 11 11 12\n",
            "  9  7 11  7 10 12 15 23 10 14 13 13 13  9]\n"
          ]
        }
      ]
    },
    {
      "cell_type": "code",
      "source": [
        "ct = ColumnTransformer(transformers=[('encoding',OneHotEncoder(),[3])],remainder = 'passthrough')\n",
        "x = np.array(ct.fit_transform(x))\n",
        "print(x)\n"
      ],
      "metadata": {
        "colab": {
          "base_uri": "https://localhost:8080/"
        },
        "id": "JFkvQft9pmmL",
        "outputId": "61e924eb-1d66-48ef-ad2d-c32a72d77bc2"
      },
      "execution_count": 3,
      "outputs": [
        {
          "output_type": "stream",
          "name": "stdout",
          "text": [
            "[[  1.   0.   0. ...  15. 397.   5.]\n",
            " [  1.   0.   0. ...  18. 397.   9.]\n",
            " [  1.   0.   0. ...  18. 393.   4.]\n",
            " ...\n",
            " [  1.   0.   9. ...  20. 392.  17.]\n",
            " [  1.   0.   6. ...  20. 397.  19.]\n",
            " [  1.   0.   8. ...  20. 393.  20.]]\n"
          ]
        }
      ]
    },
    {
      "cell_type": "code",
      "source": [
        "x_train, x_test, y_train, y_test = train_test_split(x,y,test_size = 0.3, random_state=1)\n",
        "print(x_train)\n",
        "print(x_test)\n",
        "print(y_train)\n",
        "print(y_test)\n",
        "\n"
      ],
      "metadata": {
        "colab": {
          "base_uri": "https://localhost:8080/"
        },
        "id": "frzEh8KkprY-",
        "outputId": "525fb83a-45e1-48a6-a011-902282ab5e79"
      },
      "execution_count": 13,
      "outputs": [
        {
          "output_type": "stream",
          "name": "stdout",
          "text": [
            "[[  1.   0.   0. ...  20. 397.   6.]\n",
            " [  1.   0.   0. ...  20. 397.   9.]\n",
            " [  1.   0.   0. ...  19. 389.  14.]\n",
            " ...\n",
            " [  1.   0.   0. ...  19. 391.   6.]\n",
            " [  1.   0.   0. ...  17. 377.  11.]\n",
            " [  1.   0.   0. ...  19. 397.   9.]]\n",
            "[[  1.   0.   0. ...  17. 393.  10.]\n",
            " [  1.   0.   4. ...  20. 391.  13.]\n",
            " [  1.   0.   0. ...  19. 396.   6.]\n",
            " ...\n",
            " [  1.   0.   2. ...  15. 348.  12.]\n",
            " [  1.   0.   0. ...  19. 397.   7.]\n",
            " [  1.   0.   0. ...  19. 376.  10.]]\n",
            "[23 20 22 22 27 19 22 19  9 19 44 40 18 11 22 24 20 19 29 18 50 17 13 23\n",
            " 21 19 19 25 23 33 24 20 30 22 19 24 25 22 23 50 22 13 14 50 25 27 32 23\n",
            " 22 50 23 23 32 31 15 19 28 14 22 29 18 18 14 17 18 13 24 24 21 21 13 25\n",
            " 20 31 22 20 13 24 17 24 33 23 19 50 18 15 35 32 13 35 14 20 44 23 13 29\n",
            " 19 50 25 41 18 20 34 19 13 15 24 10 12 20 19 24 24 10 17 19 25 23 36 35\n",
            " 20 27 23 21 23 35 32 17 16 25 32 26 23 16 22 21 22 20 17 17 32 29 25 24\n",
            " 24 37 36 39 19 20 25 17 18 19 23 29 35 38 23 19 27 19 25 19 21 31 14 18\n",
            " 42 15 25 15 21 21 22 22 32 28 20 23 14 14 21 33 21 31 10 15 24 35 25 49\n",
            " 43 30 33 20 21 26 37 24 24  7 22 23 16 22 31 22 17 50 23 21 16 35 16 50\n",
            " 23 50 20 19 46 38 14 33 33 20 20 19 20 23 17 20 25 45 33 23 19  7 13 20\n",
            " 18 50 23 37 20 18 22 22 15 20 21 27 14 23 19 20 25 17 20 13 30 22 22 33\n",
            " 30 35 32 22 14 12 21 18 49 14 21 23 24 21]\n",
            "[23 23 24 32 50 42 19 25 35 20 50 28 43 22 24 37 29 21 23 33 24 48 18 21\n",
            " 16 19 18 24 36 10 11 23 21 50 29 27 30 28 13 23 23 25 20 30 28 36 47 22\n",
            " 24 24 20 19 28 23 24 24 22 24 50 12 15  9 22 33 28 20 33 28 21 25 23 28\n",
            " 19 27 27 16 22 30 23 15 23 20 14 16 17 19 45 50 19 18 29 16 25 29 30 20\n",
            " 17 23 25 22 36 15 29 16 23 26 22 21 25 24 44 24 21 50 19 11 31 19 25 21]\n"
          ]
        }
      ]
    },
    {
      "cell_type": "code",
      "source": [
        "regressor = LinearRegression()\n",
        "regressor.fit(x_train, y_train)"
      ],
      "metadata": {
        "colab": {
          "base_uri": "https://localhost:8080/"
        },
        "id": "BBx4FcOlsae3",
        "outputId": "833885b4-09a1-4fb2-ed33-2f6715862aa0"
      },
      "execution_count": 12,
      "outputs": [
        {
          "output_type": "execute_result",
          "data": {
            "text/plain": [
              "LinearRegression()"
            ]
          },
          "metadata": {},
          "execution_count": 12
        }
      ]
    },
    {
      "cell_type": "code",
      "source": [
        "y_pred = regressor.predict(x_test)\n",
        "np.set_printoptions(precision=2)\n",
        "print(np.concatenate((y_pred.reshape(len(y_pred),1),y_test.reshape(len(y_test),1)),1))\n"
      ],
      "metadata": {
        "colab": {
          "base_uri": "https://localhost:8080/"
        },
        "id": "45DhPDSIp0E1",
        "outputId": "39fc00ab-66a5-428b-c81d-4a3e69ed3c97"
      },
      "execution_count": 5,
      "outputs": [
        {
          "output_type": "stream",
          "name": "stdout",
          "text": [
            "[[24.27 23.  ]\n",
            " [22.64 23.  ]\n",
            " [23.45 24.  ]\n",
            " [35.78 32.  ]\n",
            " [43.13 50.  ]\n",
            " [37.41 42.  ]\n",
            " [22.47 19.  ]\n",
            " [31.11 25.  ]\n",
            " [33.01 35.  ]\n",
            " [16.5  20.  ]\n",
            " [26.28 50.  ]\n",
            " [30.97 28.  ]\n",
            " [40.04 43.  ]\n",
            " [23.08 22.  ]\n",
            " [30.31 24.  ]\n",
            " [33.48 37.  ]\n",
            " [25.04 29.  ]\n",
            " [22.64 21.  ]\n",
            " [25.45 23.  ]\n",
            " [33.12 33.  ]\n",
            " [25.35 24.  ]\n",
            " [36.18 48.  ]\n",
            " [17.12 18.  ]\n",
            " [23.17 21.  ]\n",
            " [21.18 16.  ]\n",
            " [18.4  19.  ]\n",
            " [21.49 18.  ]\n",
            " [21.03 24.  ]\n",
            " [28.95 36.  ]\n",
            " [ 6.92 10.  ]\n",
            " [ 8.32 11.  ]\n",
            " [21.63 23.  ]\n",
            " [19.87 21.  ]\n",
            " [39.39 50.  ]\n",
            " [30.83 29.  ]\n",
            " [29.57 27.  ]\n",
            " [24.6  30.  ]\n",
            " [30.24 28.  ]\n",
            " [20.84 13.  ]\n",
            " [20.7  23.  ]\n",
            " [22.82 23.  ]\n",
            " [29.82 25.  ]\n",
            " [20.   20.  ]\n",
            " [30.03 30.  ]\n",
            " [35.18 28.  ]\n",
            " [35.65 36.  ]\n",
            " [35.76 47.  ]\n",
            " [25.08 22.  ]\n",
            " [23.17 24.  ]\n",
            " [28.4  24.  ]\n",
            " [13.14 20.  ]\n",
            " [21.42 19.  ]\n",
            " [23.72 28.  ]\n",
            " [27.67 23.  ]\n",
            " [26.43 24.  ]\n",
            " [30.35 24.  ]\n",
            " [21.43 22.  ]\n",
            " [28.26 24.  ]\n",
            " [43.57 50.  ]\n",
            " [15.97 12.  ]\n",
            " [26.59 15.  ]\n",
            " [ 2.16  9.  ]\n",
            " [20.5  22.  ]\n",
            " [29.93 33.  ]\n",
            " [34.28 28.  ]\n",
            " [23.53 20.  ]\n",
            " [36.52 33.  ]\n",
            " [19.31 28.  ]\n",
            " [21.09 21.  ]\n",
            " [28.23 25.  ]\n",
            " [26.68 23.  ]\n",
            " [30.6  28.  ]\n",
            " [21.46 19.  ]\n",
            " [29.24 27.  ]\n",
            " [28.06 27.  ]\n",
            " [20.24 16.  ]\n",
            " [19.96 22.  ]\n",
            " [30.94 30.  ]\n",
            " [31.96 23.  ]\n",
            " [14.5  15.  ]\n",
            " [27.12 23.  ]\n",
            " [19.97 20.  ]\n",
            " [20.76 14.  ]\n",
            " [21.22 16.  ]\n",
            " [15.34 17.  ]\n",
            " [13.24 19.  ]\n",
            " [37.54 45.  ]\n",
            " [45.31 50.  ]\n",
            " [22.22 19.  ]\n",
            " [18.15 18.  ]\n",
            " [35.7  29.  ]\n",
            " [17.03 16.  ]\n",
            " [24.74 25.  ]\n",
            " [30.89 29.  ]\n",
            " [31.2  30.  ]\n",
            " [19.44 20.  ]\n",
            " [20.   17.  ]\n",
            " [21.68 23.  ]\n",
            " [25.23 25.  ]\n",
            " [18.92 22.  ]\n",
            " [32.77 36.  ]\n",
            " [15.57 15.  ]\n",
            " [31.34 29.  ]\n",
            " [15.67 16.  ]\n",
            " [22.01 23.  ]\n",
            " [25.88 26.  ]\n",
            " [25.22 22.  ]\n",
            " [20.83 21.  ]\n",
            " [25.76 25.  ]\n",
            " [ 5.46 24.  ]\n",
            " [35.8  44.  ]\n",
            " [24.01 24.  ]\n",
            " [21.28 21.  ]\n",
            " [39.77 50.  ]\n",
            " [19.39 19.  ]\n",
            " [16.44 11.  ]\n",
            " [34.6  31.  ]\n",
            " [24.39 19.  ]\n",
            " [26.15 25.  ]\n",
            " [21.57 21.  ]]\n"
          ]
        }
      ]
    },
    {
      "cell_type": "code",
      "source": [
        "print(\"MAE\",mean_absolute_error(y_test,y_pred))\n",
        "print(\"MSE\",mean_squared_error(y_test,y_pred))\n",
        "print(\"RMSE\",np.sqrt(mean_squared_error(y_test,y_pred)))\n",
        "print(\"r2 score\",r2_score(y_test,y_pred))\n"
      ],
      "metadata": {
        "colab": {
          "base_uri": "https://localhost:8080/"
        },
        "id": "gvp8BflCqBWf",
        "outputId": "e0c85a0a-1242-454a-a713-584f96a570bc"
      },
      "execution_count": 6,
      "outputs": [
        {
          "output_type": "stream",
          "name": "stdout",
          "text": [
            "MAE 3.6091263090563177\n",
            "MSE 26.037356674774802\n",
            "RMSE 5.102681322086928\n",
            "r2 score 0.6938582401554991\n"
          ]
        }
      ]
    },
    {
      "cell_type": "code",
      "source": [
        "from sklearn.linear_model import Ridge,Lasso  "
      ],
      "metadata": {
        "id": "gQux-53aqHy-"
      },
      "execution_count": 7,
      "outputs": []
    },
    {
      "cell_type": "code",
      "source": [
        "ridgeR = Ridge(alpha = 1)\n",
        "ridgeR.fit(x_train, y_train)\n",
        "y_pred = ridgeR.predict(x_test)\n",
        "\n"
      ],
      "metadata": {
        "id": "1LOyOAQ0qMNi"
      },
      "execution_count": 8,
      "outputs": []
    },
    {
      "cell_type": "code",
      "source": [
        "print(\"MAE\",mean_absolute_error(y_test,y_pred))\n",
        "print(\"MSE\",mean_squared_error(y_test,y_pred))\n",
        "print(\"RMSE\",np.sqrt(mean_squared_error(y_test,y_pred)))\n",
        "print(\"r2 score\",r2_score(y_test,y_pred))\n",
        "\n"
      ],
      "metadata": {
        "colab": {
          "base_uri": "https://localhost:8080/"
        },
        "id": "nmMOr0r6qTpx",
        "outputId": "3957e003-ebe1-4e55-fc1a-367dc25a5baa"
      },
      "execution_count": 9,
      "outputs": [
        {
          "output_type": "stream",
          "name": "stdout",
          "text": [
            "MAE 3.611634854090215\n",
            "MSE 26.05450204624847\n",
            "RMSE 5.10436108110001\n",
            "r2 score 0.6936566484862026\n"
          ]
        }
      ]
    },
    {
      "cell_type": "code",
      "source": [
        "lasso = Lasso(alpha = 1)\n",
        "lasso.fit(x_train, y_train)\n",
        "y_pred1 = lasso.predict(x_test)\n"
      ],
      "metadata": {
        "id": "UquB7D7PqYyf"
      },
      "execution_count": 10,
      "outputs": []
    },
    {
      "cell_type": "code",
      "source": [
        "print(\"MAE\",mean_absolute_error(y_test,y_pred1))\n",
        "print(\"MSE\",mean_squared_error(y_test,y_pred1))\n",
        "print(\"RMSE\",np.sqrt(mean_squared_error(y_test,y_pred1)))\n",
        "print(\"r2 score\",r2_score(y_test,y_pred1))\n"
      ],
      "metadata": {
        "colab": {
          "base_uri": "https://localhost:8080/"
        },
        "id": "Sx-6aA76qdOm",
        "outputId": "2f78830c-4efb-46d2-95d3-a814e2e3c88b"
      },
      "execution_count": 11,
      "outputs": [
        {
          "output_type": "stream",
          "name": "stdout",
          "text": [
            "MAE 4.109588631224574\n",
            "MSE 34.35663924820149\n",
            "RMSE 5.861453680461997\n",
            "r2 score 0.5960418665702354\n"
          ]
        }
      ]
    }
  ]
}